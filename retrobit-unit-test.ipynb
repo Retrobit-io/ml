{
 "cells": [
  {
   "cell_type": "markdown",
   "id": "91b8d7e9-f3d6-4fcc-b2a5-d77a069ddc1d",
   "metadata": {},
   "source": [
    "# Retrobit.io Unit Tests"
   ]
  },
  {
   "cell_type": "markdown",
   "id": "4fcab8a8-d700-4929-a9d9-75bd5964fc3b",
   "metadata": {},
   "source": [
    "## Retrobit Import"
   ]
  },
  {
   "cell_type": "code",
   "execution_count": null,
   "id": "0cc06c23",
   "metadata": {},
   "outputs": [],
   "source": [
    "import retrobit"
   ]
  },
  {
   "cell_type": "code",
   "execution_count": null,
   "id": "cb7939aa",
   "metadata": {},
   "outputs": [],
   "source": [
    "retrobit.greeting()"
   ]
  },
  {
   "cell_type": "markdown",
   "id": "26b212c5-a404-4cf6-93fb-f2fbcb955f57",
   "metadata": {},
   "source": [
    "## Write IFC File"
   ]
  },
  {
   "cell_type": "code",
   "execution_count": null,
   "id": "b338802b-916d-45d2-820a-bab19dfcaf3b",
   "metadata": {},
   "outputs": [],
   "source": [
    "retrobit.write_ifc(\"first-file.ifc\")"
   ]
  },
  {
   "cell_type": "code",
   "execution_count": null,
   "id": "690eadf7-73c1-443c-af8e-133b2d03b78d",
   "metadata": {},
   "outputs": [],
   "source": [
    "ifc_elements = retrobit.unique_elements(\"example.ifc\")"
   ]
  },
  {
   "cell_type": "code",
   "execution_count": null,
   "id": "d4fb7de8-1c4d-4a27-8f67-b8ca641848f6",
   "metadata": {},
   "outputs": [],
   "source": [
    "ifc_elements"
   ]
  }
 ],
 "metadata": {
  "kernelspec": {
   "display_name": "Python 3 (ipykernel)",
   "language": "python",
   "name": "python3"
  },
  "language_info": {
   "codemirror_mode": {
    "name": "ipython",
    "version": 3
   },
   "file_extension": ".py",
   "mimetype": "text/x-python",
   "name": "python",
   "nbconvert_exporter": "python",
   "pygments_lexer": "ipython3",
   "version": "3.12.2"
  }
 },
 "nbformat": 4,
 "nbformat_minor": 5
}
